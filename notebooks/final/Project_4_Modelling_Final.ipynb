{
 "cells": [
  {
   "cell_type": "markdown",
   "id": "eff6d3f1",
   "metadata": {
    "id": "eff6d3f1"
   },
   "source": [
    "# Executive Summary\n",
    "\n",
    "The West Nile Virus (WNV), which first originated in the West Nile area (Uganda) of Africa in 1937, recently made its way to the United States. The major vector for WNV are the mosquito species *Culex Pipiens* and *Culex Restuans*. The pathogen is further amplified by birds when they get bitten by an infected mosquito. A large majority (about 80%) of people infected with WNV are asymptomatic. In general, the illness is not life threatening with those who exhibit symptoms experiencing fevers and aches and then fatigue which may last for several weeks. However those aged 60 and above are at an increased risk of developing complications in the central nervous system, which can lead to permanent damage or even death.\n",
    "\n",
    "The windy city, Chicago, is ranked as one of the worst cities in USA for mosquito infestation. As such, the risk of transmission and propagation of WNV is a matter of serious concern. Each year, Chicago's Department of Public Health deploys workers to set up mosquito traps throughout the city to collect mosquitos to test for the presence of WNV. \n",
    "\n",
    "A new data science team was formed within the Disease And Treatment Agency, division of Societal Cures In Epidemiology and New Creative Engineering (DATA-SCIENCE) to utilize the collected data, along with data from the 2 weather stations in Chicago, to predict when WNV outbreaks are likely to occur each year. A predictive model was developed using Adaptive Boost Classifier and optimized for sensitivity.\n",
    "\n",
    "The project is divided into two separate notebooks:\n",
    "- Data Cleaning and EDA\n",
    "- Modelling and Evaluation\n",
    "\n",
    "This notebook is for **Modelling and Evaluation**."
   ]
  },
  {
   "cell_type": "markdown",
   "id": "910f3d34",
   "metadata": {
    "id": "910f3d34"
   },
   "source": [
    "# Contents\n",
    "- [Problem Statement](#problem)\n",
    "- [Pre-processing](#preprocess)\n",
    "- [Gridsearch Cross Validation](#gs)\n",
    "- [Model Evaluation](#eval)\n",
    "    * [Model 1: Logistic Regression](#lr)\n",
    "    * [Model 2: Random Forest Classifier](#rf)\n",
    "    * [Model 3: Adaptive Boosting Classifier](#ada)\n",
    "    * [Model 4: Gradient Boosting Classifier](#gb)\n",
    "    * [Model 5: Neural Network - Multi Layer Perceptron Classifier](#nn)\n",
    "- [Kaggle Evaluation](#kaggle)\n",
    "- [Conclusions and Recommendations](#conclude)"
   ]
  },
  {
   "cell_type": "markdown",
   "id": "4f6c952f",
   "metadata": {
    "id": "4f6c952f"
   },
   "source": [
    "<a id='problem'></a>\n",
    "# Problem Statement\n",
    "\n",
    "With the recent rise in cases of WNV in Chicago, DATA-SCIENCE has initiated a project to construct a machine learning model to predict the occurence of WNV in the City. Current pesticide application practices do not appear to be effective in curbing the spread of the virus. This project aims to use the findings from machine learning to devise a more effective strategy to annual pesticide application in Chicago.\n",
    "\n",
    "- Accurately predict the occurance of WNV\n",
    "- Optimize model for sensitivity\n",
    "- Recommend spraying strategy\n",
    "\n",
    "### Stakeholders\n",
    "\n",
    "- Disease and Treatment Agency, division of Societal Cures in Epidemiology and New Creative Engineering (DATA-SCIENCE)\n",
    "- Department of Public Health Chicago\n",
    "- Chicago Citizens"
   ]
  },
  {
   "cell_type": "markdown",
   "id": "4c0a1dd7",
   "metadata": {
    "id": "4c0a1dd7"
   },
   "source": [
    "## Modelling Process Summary"
   ]
  },
  {
   "cell_type": "code",
   "execution_count": 1,
   "id": "d3446d96",
   "metadata": {
    "id": "d3446d96"
   },
   "outputs": [],
   "source": [
    "# Import libraries \n",
    "\n",
    "# Data Manipulation\n",
    "import numpy as np \n",
    "import pandas as pd\n",
    "\n",
    "# Data Visualization\n",
    "import matplotlib.pyplot as plt\n",
    "\n",
    "# Machine LearningI\n",
    "from sklearn.model_selection import train_test_split, GridSearchCV, cross_val_score\n",
    "from sklearn.preprocessing import StandardScaler\n",
    "from sklearn.linear_model import LogisticRegression\n",
    "from sklearn.svm import SVC\n",
    "from sklearn.pipeline import Pipeline\n",
    "from imblearn.over_sampling import SMOTE\n",
    "from sklearn.ensemble import  RandomForestClassifier, AdaBoostClassifier, GradientBoostingClassifier\n",
    "from sklearn.feature_selection import SelectFromModel\n",
    "from sklearn.tree import DecisionTreeClassifier\n",
    "from sklearn.neural_network import MLPClassifier\n",
    "from sklearn.metrics import (confusion_matrix , accuracy_score, roc_auc_score, plot_roc_curve, \n",
    "                             precision_score, recall_score, make_scorer, f1_score, classification_report)\n",
    "\n",
    "\n",
    "\n",
    "\n",
    "# Options\n",
    "pd.set_option('display.max_columns', 200)"
   ]
  },
  {
   "cell_type": "markdown",
   "id": "b8dad8c7",
   "metadata": {
    "id": "b8dad8c7"
   },
   "source": [
    "#### Import model features"
   ]
  },
  {
   "cell_type": "code",
   "execution_count": 2,
   "id": "f2a79dc4",
   "metadata": {
    "id": "f2a79dc4"
   },
   "outputs": [],
   "source": [
    "train_df = pd.read_csv('../../datasets/train_df.csv')\n",
    "test_df = pd.read_csv('../../datasets/test_df.csv')"
   ]
  },
  {
   "cell_type": "code",
   "execution_count": 3,
   "id": "0d3aed0c",
   "metadata": {
    "id": "0d3aed0c"
   },
   "outputs": [],
   "source": [
    "#Drop non predictive features\n",
    "train_df.drop(columns = ['latitude','longitude','nummosquitos','trap','date'], inplace = True)\n",
    "test_df.drop(columns = ['latitude','longitude','trap','date'],inplace = True)"
   ]
  },
  {
   "cell_type": "markdown",
   "id": "ce8ccaa9",
   "metadata": {
    "id": "ce8ccaa9"
   },
   "source": [
    "<a id='preprocess'></a>\n",
    "## Pre-processing\n",
    "### Train/test split"
   ]
  },
  {
   "cell_type": "code",
   "execution_count": 4,
   "id": "4c2cfde1",
   "metadata": {
    "id": "4c2cfde1"
   },
   "outputs": [],
   "source": [
    "target = 'wnvpresent'\n",
    "\n",
    "X = train_df.drop('wnvpresent', axis = 1)\n",
    "y = train_df[target]\n",
    "X_test = test_df[X.columns]\n",
    "\n",
    "X_train, X_holdout, y_train, y_holdout  = train_test_split(X, y, random_state = 25, train_size = 0.75, stratify=y)"
   ]
  },
  {
   "cell_type": "code",
   "execution_count": 5,
   "id": "eda4d6e5",
   "metadata": {
    "id": "eda4d6e5",
    "outputId": "c90b551c-70fc-4f8a-d163-cf233d46f940"
   },
   "outputs": [
    {
     "data": {
      "text/plain": [
       "Index(['culex_pipiens', 'culex_pipiens/restuans', 'culex_restuans', 'tavg',\n",
       "       'depart', 'dewpoint', 'cool', 'weathertype_vc', 'weathertype_dz',\n",
       "       'weathertype_ra', 'weathertype_hz', 'weathertype_br', 'weathertype_fg',\n",
       "       'weathertype_ts', 'daylighthours', 'relative_humidity',\n",
       "       'preciptotal_roll1_lag10', 'stnpressure_roll7_lag28',\n",
       "       'sealevel_roll7_lag28', 'resultspeed_roll7_lag28'],\n",
       "      dtype='object')"
      ]
     },
     "execution_count": 5,
     "metadata": {},
     "output_type": "execute_result"
    }
   ],
   "source": [
    "X.columns"
   ]
  },
  {
   "cell_type": "code",
   "execution_count": 6,
   "id": "c51f2e19",
   "metadata": {
    "id": "c51f2e19"
   },
   "outputs": [],
   "source": [
    "fix_cols = [x for x in X_train.columns if x.startswith('culex') or x.startswith('weathertype') or x.startswith('wnvpresent')]\n",
    "cols = [x for x in X_train.columns if x not in fix_cols]"
   ]
  },
  {
   "cell_type": "code",
   "execution_count": 7,
   "id": "fc300bac",
   "metadata": {
    "id": "fc300bac",
    "outputId": "0f77713e-7286-4c9d-ce5b-a00decfd638b"
   },
   "outputs": [
    {
     "data": {
      "text/plain": [
       "['tavg',\n",
       " 'depart',\n",
       " 'dewpoint',\n",
       " 'cool',\n",
       " 'daylighthours',\n",
       " 'relative_humidity',\n",
       " 'preciptotal_roll1_lag10',\n",
       " 'stnpressure_roll7_lag28',\n",
       " 'sealevel_roll7_lag28',\n",
       " 'resultspeed_roll7_lag28']"
      ]
     },
     "execution_count": 7,
     "metadata": {},
     "output_type": "execute_result"
    }
   ],
   "source": [
    "cols"
   ]
  },
  {
   "cell_type": "markdown",
   "id": "34b08c86",
   "metadata": {
    "id": "34b08c86"
   },
   "source": [
    "### Data Transfomation\n",
    "- Standard Scaler\n",
    "    * Performed only on numerical features, excluding non-binary features\n",
    "- SMOTE (Synthetic Minority Over-sampling Technique)\n",
    "    * Uses synthetic data generation to increase the number of samples in the data set to make classes more balanced"
   ]
  },
  {
   "cell_type": "code",
   "execution_count": 8,
   "id": "e76cc41e",
   "metadata": {
    "id": "e76cc41e",
    "outputId": "2c93d23c-2219-449e-abf2-bf21b44d16d4"
   },
   "outputs": [
    {
     "name": "stderr",
     "output_type": "stream",
     "text": [
      "C:\\Users\\chris\\anaconda3\\envs\\dsi\\lib\\site-packages\\pandas\\core\\indexing.py:1738: SettingWithCopyWarning: \n",
      "A value is trying to be set on a copy of a slice from a DataFrame.\n",
      "Try using .loc[row_indexer,col_indexer] = value instead\n",
      "\n",
      "See the caveats in the documentation: https://pandas.pydata.org/pandas-docs/stable/user_guide/indexing.html#returning-a-view-versus-a-copy\n",
      "  self._setitem_single_column(loc, value[:, i].tolist(), pi)\n",
      "C:\\Users\\chris\\anaconda3\\envs\\dsi\\lib\\site-packages\\pandas\\core\\indexing.py:1738: SettingWithCopyWarning: \n",
      "A value is trying to be set on a copy of a slice from a DataFrame.\n",
      "Try using .loc[row_indexer,col_indexer] = value instead\n",
      "\n",
      "See the caveats in the documentation: https://pandas.pydata.org/pandas-docs/stable/user_guide/indexing.html#returning-a-view-versus-a-copy\n",
      "  self._setitem_single_column(loc, value[:, i].tolist(), pi)\n",
      "C:\\Users\\chris\\anaconda3\\envs\\dsi\\lib\\site-packages\\pandas\\core\\indexing.py:1738: SettingWithCopyWarning: \n",
      "A value is trying to be set on a copy of a slice from a DataFrame.\n",
      "Try using .loc[row_indexer,col_indexer] = value instead\n",
      "\n",
      "See the caveats in the documentation: https://pandas.pydata.org/pandas-docs/stable/user_guide/indexing.html#returning-a-view-versus-a-copy\n",
      "  self._setitem_single_column(loc, value[:, i].tolist(), pi)\n",
      "C:\\Users\\chris\\anaconda3\\envs\\dsi\\lib\\site-packages\\pandas\\core\\indexing.py:1738: SettingWithCopyWarning: \n",
      "A value is trying to be set on a copy of a slice from a DataFrame.\n",
      "Try using .loc[row_indexer,col_indexer] = value instead\n",
      "\n",
      "See the caveats in the documentation: https://pandas.pydata.org/pandas-docs/stable/user_guide/indexing.html#returning-a-view-versus-a-copy\n",
      "  self._setitem_single_column(loc, value[:, i].tolist(), pi)\n",
      "C:\\Users\\chris\\anaconda3\\envs\\dsi\\lib\\site-packages\\pandas\\core\\indexing.py:1738: SettingWithCopyWarning: \n",
      "A value is trying to be set on a copy of a slice from a DataFrame.\n",
      "Try using .loc[row_indexer,col_indexer] = value instead\n",
      "\n",
      "See the caveats in the documentation: https://pandas.pydata.org/pandas-docs/stable/user_guide/indexing.html#returning-a-view-versus-a-copy\n",
      "  self._setitem_single_column(loc, value[:, i].tolist(), pi)\n",
      "C:\\Users\\chris\\anaconda3\\envs\\dsi\\lib\\site-packages\\pandas\\core\\indexing.py:1738: SettingWithCopyWarning: \n",
      "A value is trying to be set on a copy of a slice from a DataFrame.\n",
      "Try using .loc[row_indexer,col_indexer] = value instead\n",
      "\n",
      "See the caveats in the documentation: https://pandas.pydata.org/pandas-docs/stable/user_guide/indexing.html#returning-a-view-versus-a-copy\n",
      "  self._setitem_single_column(loc, value[:, i].tolist(), pi)\n",
      "C:\\Users\\chris\\anaconda3\\envs\\dsi\\lib\\site-packages\\pandas\\core\\indexing.py:1738: SettingWithCopyWarning: \n",
      "A value is trying to be set on a copy of a slice from a DataFrame.\n",
      "Try using .loc[row_indexer,col_indexer] = value instead\n",
      "\n",
      "See the caveats in the documentation: https://pandas.pydata.org/pandas-docs/stable/user_guide/indexing.html#returning-a-view-versus-a-copy\n",
      "  self._setitem_single_column(loc, value[:, i].tolist(), pi)\n",
      "C:\\Users\\chris\\anaconda3\\envs\\dsi\\lib\\site-packages\\pandas\\core\\indexing.py:1738: SettingWithCopyWarning: \n",
      "A value is trying to be set on a copy of a slice from a DataFrame.\n",
      "Try using .loc[row_indexer,col_indexer] = value instead\n",
      "\n",
      "See the caveats in the documentation: https://pandas.pydata.org/pandas-docs/stable/user_guide/indexing.html#returning-a-view-versus-a-copy\n",
      "  self._setitem_single_column(loc, value[:, i].tolist(), pi)\n",
      "C:\\Users\\chris\\anaconda3\\envs\\dsi\\lib\\site-packages\\pandas\\core\\indexing.py:1738: SettingWithCopyWarning: \n",
      "A value is trying to be set on a copy of a slice from a DataFrame.\n",
      "Try using .loc[row_indexer,col_indexer] = value instead\n",
      "\n",
      "See the caveats in the documentation: https://pandas.pydata.org/pandas-docs/stable/user_guide/indexing.html#returning-a-view-versus-a-copy\n",
      "  self._setitem_single_column(loc, value[:, i].tolist(), pi)\n",
      "C:\\Users\\chris\\anaconda3\\envs\\dsi\\lib\\site-packages\\pandas\\core\\indexing.py:1738: SettingWithCopyWarning: \n",
      "A value is trying to be set on a copy of a slice from a DataFrame.\n",
      "Try using .loc[row_indexer,col_indexer] = value instead\n",
      "\n",
      "See the caveats in the documentation: https://pandas.pydata.org/pandas-docs/stable/user_guide/indexing.html#returning-a-view-versus-a-copy\n",
      "  self._setitem_single_column(loc, value[:, i].tolist(), pi)\n",
      "C:\\Users\\chris\\anaconda3\\envs\\dsi\\lib\\site-packages\\pandas\\core\\indexing.py:1738: SettingWithCopyWarning: \n",
      "A value is trying to be set on a copy of a slice from a DataFrame.\n",
      "Try using .loc[row_indexer,col_indexer] = value instead\n",
      "\n",
      "See the caveats in the documentation: https://pandas.pydata.org/pandas-docs/stable/user_guide/indexing.html#returning-a-view-versus-a-copy\n",
      "  self._setitem_single_column(loc, value[:, i].tolist(), pi)\n",
      "C:\\Users\\chris\\anaconda3\\envs\\dsi\\lib\\site-packages\\pandas\\core\\indexing.py:1738: SettingWithCopyWarning: \n",
      "A value is trying to be set on a copy of a slice from a DataFrame.\n",
      "Try using .loc[row_indexer,col_indexer] = value instead\n",
      "\n",
      "See the caveats in the documentation: https://pandas.pydata.org/pandas-docs/stable/user_guide/indexing.html#returning-a-view-versus-a-copy\n",
      "  self._setitem_single_column(loc, value[:, i].tolist(), pi)\n",
      "C:\\Users\\chris\\anaconda3\\envs\\dsi\\lib\\site-packages\\pandas\\core\\indexing.py:1738: SettingWithCopyWarning: \n",
      "A value is trying to be set on a copy of a slice from a DataFrame.\n",
      "Try using .loc[row_indexer,col_indexer] = value instead\n",
      "\n",
      "See the caveats in the documentation: https://pandas.pydata.org/pandas-docs/stable/user_guide/indexing.html#returning-a-view-versus-a-copy\n",
      "  self._setitem_single_column(loc, value[:, i].tolist(), pi)\n",
      "C:\\Users\\chris\\anaconda3\\envs\\dsi\\lib\\site-packages\\pandas\\core\\indexing.py:1738: SettingWithCopyWarning: \n",
      "A value is trying to be set on a copy of a slice from a DataFrame.\n",
      "Try using .loc[row_indexer,col_indexer] = value instead\n",
      "\n",
      "See the caveats in the documentation: https://pandas.pydata.org/pandas-docs/stable/user_guide/indexing.html#returning-a-view-versus-a-copy\n",
      "  self._setitem_single_column(loc, value[:, i].tolist(), pi)\n",
      "C:\\Users\\chris\\anaconda3\\envs\\dsi\\lib\\site-packages\\pandas\\core\\indexing.py:1738: SettingWithCopyWarning: \n",
      "A value is trying to be set on a copy of a slice from a DataFrame.\n",
      "Try using .loc[row_indexer,col_indexer] = value instead\n",
      "\n",
      "See the caveats in the documentation: https://pandas.pydata.org/pandas-docs/stable/user_guide/indexing.html#returning-a-view-versus-a-copy\n",
      "  self._setitem_single_column(loc, value[:, i].tolist(), pi)\n",
      "C:\\Users\\chris\\anaconda3\\envs\\dsi\\lib\\site-packages\\pandas\\core\\indexing.py:1738: SettingWithCopyWarning: \n",
      "A value is trying to be set on a copy of a slice from a DataFrame.\n",
      "Try using .loc[row_indexer,col_indexer] = value instead\n",
      "\n",
      "See the caveats in the documentation: https://pandas.pydata.org/pandas-docs/stable/user_guide/indexing.html#returning-a-view-versus-a-copy\n",
      "  self._setitem_single_column(loc, value[:, i].tolist(), pi)\n",
      "C:\\Users\\chris\\anaconda3\\envs\\dsi\\lib\\site-packages\\pandas\\core\\indexing.py:1738: SettingWithCopyWarning: \n",
      "A value is trying to be set on a copy of a slice from a DataFrame.\n",
      "Try using .loc[row_indexer,col_indexer] = value instead\n",
      "\n",
      "See the caveats in the documentation: https://pandas.pydata.org/pandas-docs/stable/user_guide/indexing.html#returning-a-view-versus-a-copy\n",
      "  self._setitem_single_column(loc, value[:, i].tolist(), pi)\n",
      "C:\\Users\\chris\\anaconda3\\envs\\dsi\\lib\\site-packages\\pandas\\core\\indexing.py:1738: SettingWithCopyWarning: \n",
      "A value is trying to be set on a copy of a slice from a DataFrame.\n",
      "Try using .loc[row_indexer,col_indexer] = value instead\n",
      "\n",
      "See the caveats in the documentation: https://pandas.pydata.org/pandas-docs/stable/user_guide/indexing.html#returning-a-view-versus-a-copy\n",
      "  self._setitem_single_column(loc, value[:, i].tolist(), pi)\n",
      "C:\\Users\\chris\\anaconda3\\envs\\dsi\\lib\\site-packages\\pandas\\core\\indexing.py:1738: SettingWithCopyWarning: \n",
      "A value is trying to be set on a copy of a slice from a DataFrame.\n",
      "Try using .loc[row_indexer,col_indexer] = value instead\n",
      "\n",
      "See the caveats in the documentation: https://pandas.pydata.org/pandas-docs/stable/user_guide/indexing.html#returning-a-view-versus-a-copy\n",
      "  self._setitem_single_column(loc, value[:, i].tolist(), pi)\n",
      "C:\\Users\\chris\\anaconda3\\envs\\dsi\\lib\\site-packages\\pandas\\core\\indexing.py:1738: SettingWithCopyWarning: \n",
      "A value is trying to be set on a copy of a slice from a DataFrame.\n",
      "Try using .loc[row_indexer,col_indexer] = value instead\n",
      "\n",
      "See the caveats in the documentation: https://pandas.pydata.org/pandas-docs/stable/user_guide/indexing.html#returning-a-view-versus-a-copy\n",
      "  self._setitem_single_column(loc, value[:, i].tolist(), pi)\n"
     ]
    }
   ],
   "source": [
    "# Standard Scaler\n",
    "ss = StandardScaler()\n",
    "\n",
    "for i in cols:\n",
    "    X_train.loc[:,i] = ss.fit_transform(X_train[[i]])\n",
    "    X_holdout.loc[:,i] = ss.transform(X_holdout[[i]])"
   ]
  },
  {
   "cell_type": "code",
   "execution_count": 9,
   "id": "8e2a37e7",
   "metadata": {
    "id": "8e2a37e7"
   },
   "outputs": [],
   "source": [
    "# SMOTE\n",
    "sm = SMOTE(random_state = 25)\n",
    "\n",
    "X_train_sm, y_train_sm = sm.fit_resample(X_train, y_train)\n",
    "X_holdout_sm, y_holdout_sm = sm.fit_resample(X_holdout, y_holdout)"
   ]
  },
  {
   "cell_type": "markdown",
   "id": "8e6556d9",
   "metadata": {
    "id": "8e6556d9"
   },
   "source": [
    "<a id='gs'></a>\n",
    "## Gridsearch Cross Validation\n",
    "\n",
    "In this section, we set up the gridsearch cross validation for our desired models and hyperparameters. We will comment on the choice of hyperparameters and results of the gridsearch in a later section"
   ]
  },
  {
   "cell_type": "code",
   "execution_count": 10,
   "id": "cf1a805e",
   "metadata": {
    "id": "cf1a805e"
   },
   "outputs": [],
   "source": [
    "#Function which performs gridsearching over different pipelines\n",
    "#inputs are lists containing models and respective parameters for each pipeline\n",
    "#outputs are lists containing the cross validated score and best parameters for each pipeline\n",
    "\n",
    "def gridsearcher(models,parameters,X,y):\n",
    "    cross_val_scores = []\n",
    "    best_params = []\n",
    "    \n",
    "    for n, p in enumerate(parameters):\n",
    "        gs = GridSearchCV(models[n],\n",
    "                         param_grid = parameters[n],\n",
    "                         cv = 5,\n",
    "                         verbose = 1,\n",
    "                         n_jobs = -1,\n",
    "                         scoring = 'roc_auc'\n",
    "                         )\n",
    "        gs.fit(X,y)\n",
    "        cross_val_scores.append(gs.best_score_)\n",
    "        best_params.append(gs.best_params_)\n",
    "    return cross_val_scores, best_params"
   ]
  },
  {
   "cell_type": "code",
   "execution_count": 11,
   "id": "89e4ef1d",
   "metadata": {
    "id": "89e4ef1d"
   },
   "outputs": [],
   "source": [
    "#Instantiate models\n",
    "#List of models used in gridsearch\n",
    "lr = LogisticRegression(random_state = 25, max_iter = 2000)\n",
    "rf = RandomForestClassifier(random_state = 25)\n",
    "ada = AdaBoostClassifier(base_estimator=DecisionTreeClassifier(),random_state=25, n_estimators= 200)\n",
    "gb = GradientBoostingClassifier(random_state= 25, n_estimators = 500)\n",
    "nn = MLPClassifier(activation = 'relu',\n",
    "                  solver = 'adam',\n",
    "                  batch_size = 'auto',\n",
    "                  max_iter = 2000,\n",
    "                  random_state = 25,\n",
    "                  verbose = 1,\n",
    "                  early_stopping = True)\n",
    "\n",
    "models_list = [lr,\n",
    "               rf,\n",
    "               ada,\n",
    "               gb,\n",
    "               nn]\n",
    "\n",
    "#Hyperparameters to gridsearch over\n",
    "params_list = [\n",
    "    #Logistic Regression\n",
    "    {'penalty': ['elasticnet'],\n",
    "     'C': [0.1 , 1 , 10],\n",
    "     'l1_ratio' : [0,0.3,0.5,0.7,1],\n",
    "     'class_weight': ['balanced',None],\n",
    "     'solver': ['saga']}, \n",
    "    #Random Forest Classifier\n",
    "    {'criterion': ['gini','entropy'], \n",
    "    'n_estimators' : [2000,2500,3000],\n",
    "     'max_depth': [None, 5, 10],\n",
    "     'max_features': ['sqrt', 'log2', None]},\n",
    "    #Ada boost\n",
    "    {'base_estimator__criterion': ['gini','entropy'], \n",
    "     'base_estimator__max_depth': [None, 5, 10, 15],\n",
    "     'base_estimator__ccp_alpha': [0,2,3],\n",
    "     'base_estimator__class_weight': ['none', 'balanced']},\n",
    "    #Gradient boost\n",
    "    {'criterion': ['friedman_mse', 'mse'],\n",
    "     'max_depth': [5, 10, 11],\n",
    "     'loss': ['deviance', 'exponential']},\n",
    "    #Neural Network\n",
    "    {'learning_rate' : ['adaptive','constant'],\n",
    "    'validation_fraction' : [0.1,0.15,0.2,0.3],\n",
    "    'hidden_layer_sizes' : [(128,),(100,),(64,)]}]"
   ]
  },
  {
   "cell_type": "code",
   "execution_count": 12,
   "id": "b3deac8d",
   "metadata": {
    "id": "b3deac8d",
    "outputId": "dc205c05-486b-4665-a299-eac796b6e661"
   },
   "outputs": [
    {
     "name": "stdout",
     "output_type": "stream",
     "text": [
      "Fitting 5 folds for each of 30 candidates, totalling 150 fits\n",
      "Fitting 5 folds for each of 54 candidates, totalling 270 fits\n",
      "Fitting 5 folds for each of 48 candidates, totalling 240 fits\n"
     ]
    },
    {
     "name": "stderr",
     "output_type": "stream",
     "text": [
      "C:\\Users\\chris\\anaconda3\\envs\\dsi\\lib\\site-packages\\sklearn\\model_selection\\_search.py:918: UserWarning: One or more of the test scores are non-finite: [       nan        nan        nan        nan        nan        nan\n",
      "        nan        nan 0.9069038  0.90685121 0.90639575 0.90694929\n",
      " 0.90626701 0.90655006 0.90635677 0.90647777        nan        nan\n",
      "        nan        nan        nan        nan        nan        nan\n",
      " 0.5        0.5        0.5        0.5        0.5        0.5\n",
      " 0.5        0.5               nan        nan        nan        nan\n",
      "        nan        nan        nan        nan 0.5        0.5\n",
      " 0.5        0.5        0.5        0.5        0.5        0.5       ]\n",
      "  warnings.warn(\n"
     ]
    },
    {
     "name": "stdout",
     "output_type": "stream",
     "text": [
      "Fitting 5 folds for each of 12 candidates, totalling 60 fits\n",
      "Fitting 5 folds for each of 24 candidates, totalling 120 fits\n",
      "Iteration 1, loss = 0.63650958\n",
      "Validation score: 0.693750\n",
      "Iteration 2, loss = 0.56216287\n",
      "Validation score: 0.743304\n",
      "Iteration 3, loss = 0.52560426\n",
      "Validation score: 0.766964\n",
      "Iteration 4, loss = 0.50115161\n",
      "Validation score: 0.768750\n",
      "Iteration 5, loss = 0.48335218\n",
      "Validation score: 0.775446\n",
      "Iteration 6, loss = 0.46908380\n",
      "Validation score: 0.780804\n",
      "Iteration 7, loss = 0.45840427\n",
      "Validation score: 0.781696\n",
      "Iteration 8, loss = 0.45053907\n",
      "Validation score: 0.782143\n",
      "Iteration 9, loss = 0.44478751\n",
      "Validation score: 0.785268\n",
      "Iteration 10, loss = 0.43988108\n",
      "Validation score: 0.790179\n",
      "Iteration 11, loss = 0.43610750\n",
      "Validation score: 0.782143\n",
      "Iteration 12, loss = 0.43189304\n",
      "Validation score: 0.789286\n",
      "Iteration 13, loss = 0.42930821\n",
      "Validation score: 0.794643\n",
      "Iteration 14, loss = 0.42643068\n",
      "Validation score: 0.795982\n",
      "Iteration 15, loss = 0.42403626\n",
      "Validation score: 0.790179\n",
      "Iteration 16, loss = 0.42292598\n",
      "Validation score: 0.797768\n",
      "Iteration 17, loss = 0.42030506\n",
      "Validation score: 0.794643\n",
      "Iteration 18, loss = 0.41829088\n",
      "Validation score: 0.804018\n",
      "Iteration 19, loss = 0.41775079\n",
      "Validation score: 0.797321\n",
      "Iteration 20, loss = 0.41672678\n",
      "Validation score: 0.798214\n",
      "Iteration 21, loss = 0.41504324\n",
      "Validation score: 0.800000\n",
      "Iteration 22, loss = 0.41308873\n",
      "Validation score: 0.800893\n",
      "Iteration 23, loss = 0.41262318\n",
      "Validation score: 0.800446\n",
      "Iteration 24, loss = 0.41200278\n",
      "Validation score: 0.804911\n",
      "Iteration 25, loss = 0.41013465\n",
      "Validation score: 0.803571\n",
      "Iteration 26, loss = 0.40877906\n",
      "Validation score: 0.800446\n",
      "Iteration 27, loss = 0.40789034\n",
      "Validation score: 0.800000\n",
      "Iteration 28, loss = 0.40743740\n",
      "Validation score: 0.798214\n",
      "Iteration 29, loss = 0.40708798\n",
      "Validation score: 0.801786\n",
      "Iteration 30, loss = 0.40562502\n",
      "Validation score: 0.798661\n",
      "Iteration 31, loss = 0.40665327\n",
      "Validation score: 0.802232\n",
      "Iteration 32, loss = 0.40423823\n",
      "Validation score: 0.798661\n",
      "Iteration 33, loss = 0.40405446\n",
      "Validation score: 0.802679\n",
      "Iteration 34, loss = 0.40318690\n",
      "Validation score: 0.802679\n",
      "Iteration 35, loss = 0.40236659\n",
      "Validation score: 0.799107\n",
      "Validation score did not improve more than tol=0.000100 for 10 consecutive epochs. Stopping.\n"
     ]
    }
   ],
   "source": [
    "cross_val_scores, best_params = gridsearcher(models = models_list,\n",
    "                                             parameters = params_list,\n",
    "                                             X = X_train_sm,\n",
    "                                             y = y_train_sm)"
   ]
  },
  {
   "cell_type": "code",
   "execution_count": 13,
   "id": "50f238ab",
   "metadata": {
    "id": "50f238ab",
    "outputId": "41c70c87-de99-4cfb-91f0-d91517de1d5f"
   },
   "outputs": [
    {
     "data": {
      "text/plain": [
       "[0.8189572287106,\n",
       " 0.9043329746082464,\n",
       " 0.9069492906185024,\n",
       " 0.9070379611999704,\n",
       " 0.8816777173899789]"
      ]
     },
     "execution_count": 13,
     "metadata": {},
     "output_type": "execute_result"
    }
   ],
   "source": [
    "#Print scores from gridsearch\n",
    "cross_val_scores"
   ]
  },
  {
   "cell_type": "code",
   "execution_count": 14,
   "id": "3edfacf2",
   "metadata": {
    "id": "3edfacf2",
    "outputId": "8d9e62cc-7329-4212-9695-5f869e04606f"
   },
   "outputs": [
    {
     "data": {
      "text/plain": [
       "[{'C': 1,\n",
       "  'class_weight': 'balanced',\n",
       "  'l1_ratio': 0.3,\n",
       "  'penalty': 'elasticnet',\n",
       "  'solver': 'saga'},\n",
       " {'criterion': 'entropy',\n",
       "  'max_depth': None,\n",
       "  'max_features': 'sqrt',\n",
       "  'n_estimators': 2500},\n",
       " {'base_estimator__ccp_alpha': 0,\n",
       "  'base_estimator__class_weight': 'balanced',\n",
       "  'base_estimator__criterion': 'gini',\n",
       "  'base_estimator__max_depth': 15},\n",
       " {'criterion': 'friedman_mse', 'loss': 'exponential', 'max_depth': 10},\n",
       " {'hidden_layer_sizes': (100,),\n",
       "  'learning_rate': 'adaptive',\n",
       "  'validation_fraction': 0.15}]"
      ]
     },
     "execution_count": 14,
     "metadata": {},
     "output_type": "execute_result"
    }
   ],
   "source": [
    "#Print best hyperparameters from gridsearch\n",
    "best_params"
   ]
  },
  {
   "cell_type": "code",
   "execution_count": 15,
   "id": "9372e27b",
   "metadata": {
    "id": "9372e27b",
    "outputId": "fce8faf8-57f6-468a-99ad-e5333f1d4844"
   },
   "outputs": [
    {
     "data": {
      "text/plain": [
       "MLPClassifier(early_stopping=True, learning_rate='adaptive', max_iter=2000,\n",
       "              random_state=25, validation_fraction=0.15, verbose=1)"
      ]
     },
     "execution_count": 15,
     "metadata": {},
     "output_type": "execute_result"
    }
   ],
   "source": [
    "# Logistic Regression Gridsearch Set-up\n",
    "lr = LogisticRegression(random_state = 25, max_iter = 2000)\n",
    "lr.set_params(**best_params[0])\n",
    "\n",
    "# Random Forest Gridsearch set-up\n",
    "rf = RandomForestClassifier(random_state = 25)\n",
    "rf.set_params(**best_params[1])\n",
    "\n",
    "# ADABOOST fit\n",
    "\n",
    "ada = AdaBoostClassifier(base_estimator=DecisionTreeClassifier(),random_state=25, n_estimators= 200)\n",
    "ada.set_params(**best_params[2])\n",
    "\n",
    "# Gradient boost Set up\n",
    "gb = GradientBoostingClassifier(random_state= 25, n_estimators = 500)\n",
    "gb.set_params(**best_params[3])\n",
    "\n",
    "#Neural Network set-up\n",
    "nn = MLPClassifier(activation = 'relu',\n",
    "                  solver = 'adam',\n",
    "                  batch_size = 'auto',\n",
    "                  max_iter = 2000,\n",
    "                  random_state = 25,\n",
    "                  verbose = 1,\n",
    "                  early_stopping = True)\n",
    "nn.set_params(**best_params[4])"
   ]
  },
  {
   "cell_type": "code",
   "execution_count": 16,
   "id": "2f1d62e4",
   "metadata": {
    "colab": {
     "base_uri": "https://localhost:8080/",
     "height": 229
    },
    "id": "2f1d62e4",
    "outputId": "fb7dc7c9-7e79-40ca-92dc-e37bef1d1cc4"
   },
   "outputs": [
    {
     "name": "stdout",
     "output_type": "stream",
     "text": [
      "Iteration 1, loss = 0.63650958\n",
      "Validation score: 0.693750\n",
      "Iteration 2, loss = 0.56216287\n",
      "Validation score: 0.743304\n",
      "Iteration 3, loss = 0.52560426\n",
      "Validation score: 0.766964\n",
      "Iteration 4, loss = 0.50115161\n",
      "Validation score: 0.768750\n",
      "Iteration 5, loss = 0.48335218\n",
      "Validation score: 0.775446\n",
      "Iteration 6, loss = 0.46908380\n",
      "Validation score: 0.780804\n",
      "Iteration 7, loss = 0.45840427\n",
      "Validation score: 0.781696\n",
      "Iteration 8, loss = 0.45053907\n",
      "Validation score: 0.782143\n",
      "Iteration 9, loss = 0.44478751\n",
      "Validation score: 0.785268\n",
      "Iteration 10, loss = 0.43988108\n",
      "Validation score: 0.790179\n",
      "Iteration 11, loss = 0.43610750\n",
      "Validation score: 0.782143\n",
      "Iteration 12, loss = 0.43189304\n",
      "Validation score: 0.789286\n",
      "Iteration 13, loss = 0.42930821\n",
      "Validation score: 0.794643\n",
      "Iteration 14, loss = 0.42643068\n",
      "Validation score: 0.795982\n",
      "Iteration 15, loss = 0.42403626\n",
      "Validation score: 0.790179\n",
      "Iteration 16, loss = 0.42292598\n",
      "Validation score: 0.797768\n",
      "Iteration 17, loss = 0.42030506\n",
      "Validation score: 0.794643\n",
      "Iteration 18, loss = 0.41829088\n",
      "Validation score: 0.804018\n",
      "Iteration 19, loss = 0.41775079\n",
      "Validation score: 0.797321\n",
      "Iteration 20, loss = 0.41672678\n",
      "Validation score: 0.798214\n",
      "Iteration 21, loss = 0.41504324\n",
      "Validation score: 0.800000\n",
      "Iteration 22, loss = 0.41308873\n",
      "Validation score: 0.800893\n",
      "Iteration 23, loss = 0.41262318\n",
      "Validation score: 0.800446\n",
      "Iteration 24, loss = 0.41200278\n",
      "Validation score: 0.804911\n",
      "Iteration 25, loss = 0.41013465\n",
      "Validation score: 0.803571\n",
      "Iteration 26, loss = 0.40877906\n",
      "Validation score: 0.800446\n",
      "Iteration 27, loss = 0.40789034\n",
      "Validation score: 0.800000\n",
      "Iteration 28, loss = 0.40743740\n",
      "Validation score: 0.798214\n",
      "Iteration 29, loss = 0.40708798\n",
      "Validation score: 0.801786\n",
      "Iteration 30, loss = 0.40562502\n",
      "Validation score: 0.798661\n",
      "Iteration 31, loss = 0.40665327\n",
      "Validation score: 0.802232\n",
      "Iteration 32, loss = 0.40423823\n",
      "Validation score: 0.798661\n",
      "Iteration 33, loss = 0.40405446\n",
      "Validation score: 0.802679\n",
      "Iteration 34, loss = 0.40318690\n",
      "Validation score: 0.802679\n",
      "Iteration 35, loss = 0.40236659\n",
      "Validation score: 0.799107\n",
      "Validation score did not improve more than tol=0.000100 for 10 consecutive epochs. Stopping.\n"
     ]
    },
    {
     "data": {
      "text/plain": [
       "MLPClassifier(early_stopping=True, learning_rate='adaptive', max_iter=2000,\n",
       "              random_state=25, validation_fraction=0.15, verbose=1)"
      ]
     },
     "execution_count": 16,
     "metadata": {},
     "output_type": "execute_result"
    }
   ],
   "source": [
    "lr.fit(X_train_sm, y_train_sm)\n",
    "rf.fit(X_train_sm, y_train_sm)\n",
    "ada.fit(X_train_sm, y_train_sm)\n",
    "gb.fit(X_train_sm,y_train_sm)\n",
    "nn.fit(X_train_sm, y_train_sm)"
   ]
  },
  {
   "cell_type": "markdown",
   "id": "418ff14c",
   "metadata": {
    "id": "418ff14c"
   },
   "source": [
    "<a id='eval'></a>\n",
    "## Model Evaluation\n",
    "\n",
    "The 6 model combinations have been optimised by gridsearch. We will evaluate the result by creating a function that generates all the evaluation metrics. In this section, we will generate the results. We will compare and comment on the results in the next section Model Selection.\n",
    "\n",
    "As we are dealing with an unbalanced class (5% of train data is positive class) and are interested in the positive cases, we are looking for the model that provides the best Sensitivity/Recall."
   ]
  },
  {
   "cell_type": "markdown",
   "id": "7dfe88b6",
   "metadata": {
    "id": "7dfe88b6"
   },
   "source": [
    "<a id='lr'></a>\n",
    "### Model 1: Logistic Regression"
   ]
  },
  {
   "cell_type": "markdown",
   "id": "5669f7d3",
   "metadata": {
    "id": "5669f7d3"
   },
   "source": [
    "#### Hyperparameters:\n",
    "l1 ratio -> Weights of l1 penalty term as compared to l2 penalty term\n",
    "\n",
    "C -> Inverse of regularization strength, smaller values have more regularisation, regularisation will reduce the variance of the model\n"
   ]
  },
  {
   "cell_type": "markdown",
   "id": "03a29f9f",
   "metadata": {
    "id": "03a29f9f"
   },
   "source": [
    "From grid searching, we get the following parameters:"
   ]
  },
  {
   "cell_type": "code",
   "execution_count": 17,
   "id": "b78abd94",
   "metadata": {
    "id": "b78abd94"
   },
   "outputs": [
    {
     "data": {
      "text/plain": [
       "{'C': 1,\n",
       " 'class_weight': 'balanced',\n",
       " 'dual': False,\n",
       " 'fit_intercept': True,\n",
       " 'intercept_scaling': 1,\n",
       " 'l1_ratio': 0.3,\n",
       " 'max_iter': 2000,\n",
       " 'multi_class': 'auto',\n",
       " 'n_jobs': None,\n",
       " 'penalty': 'elasticnet',\n",
       " 'random_state': 25,\n",
       " 'solver': 'saga',\n",
       " 'tol': 0.0001,\n",
       " 'verbose': 0,\n",
       " 'warm_start': False}"
      ]
     },
     "execution_count": 17,
     "metadata": {},
     "output_type": "execute_result"
    }
   ],
   "source": [
    "lr.get_params()"
   ]
  },
  {
   "cell_type": "markdown",
   "id": "718507d4",
   "metadata": {
    "id": "718507d4"
   },
   "source": [
    "#### Interpreting Intercept and Coefficients\n",
    "The logistic regression model is a commonly used binary classifier and is used in pipelines 1 and 2. It assumes a linear relationship between features and the log-odds of class = 1.\n",
    "\n",
    "To interpret the intercept and coefficients of the model, we need to first exponentiate the values. The result is interpreted as odds. For the exponentiated intercept, it is the likelihood of predicting class 1 as opposed to class 0 when the other predictors are = 0. For coefficients, the sign represents whether the feature increases or decreases the odds of predicting class 1. The magnitude of the exponentiated coefficient represents an increase in likelihood of predicting class 1 (or class 0 for negative coefficients).\n",
    "\n",
    "The exponentiated intercept represents an odds of 1.8814 in predicting WNV +ve on average. This ties in with having more false negatives than false positives. The intercept may account for shorter documents with weak predictive features which were then misclassified .\n",
    "\n",
    "The sign of the coefficient for logistic regression tells us whether the feature predicts WNV +ve or WNV -ve.\n",
    "The coefficients themselves can be interpreted by exponentiating their values. The result represents an increase in odds of predicting WNV +ve.\n"
   ]
  },
  {
   "cell_type": "markdown",
   "id": "debb2ddb",
   "metadata": {
    "id": "debb2ddb"
   },
   "source": [
    "#### Interpreting top coefficients"
   ]
  },
  {
   "cell_type": "code",
   "execution_count": 18,
   "id": "b07a47f1",
   "metadata": {
    "id": "b07a47f1",
    "outputId": "9ec0eec8-2ea4-4fc7-eca7-67e9efc79018",
    "scrolled": false
   },
   "outputs": [
    {
     "data": {
      "text/html": [
       "<div>\n",
       "<style scoped>\n",
       "    .dataframe tbody tr th:only-of-type {\n",
       "        vertical-align: middle;\n",
       "    }\n",
       "\n",
       "    .dataframe tbody tr th {\n",
       "        vertical-align: top;\n",
       "    }\n",
       "\n",
       "    .dataframe thead th {\n",
       "        text-align: right;\n",
       "    }\n",
       "</style>\n",
       "<table border=\"1\" class=\"dataframe\">\n",
       "  <thead>\n",
       "    <tr style=\"text-align: right;\">\n",
       "      <th></th>\n",
       "      <th>Feature</th>\n",
       "      <th>Coefficients</th>\n",
       "    </tr>\n",
       "  </thead>\n",
       "  <tbody>\n",
       "    <tr>\n",
       "      <th>17</th>\n",
       "      <td>stnpressure_roll7_lag28</td>\n",
       "      <td>2.138130</td>\n",
       "    </tr>\n",
       "    <tr>\n",
       "      <th>5</th>\n",
       "      <td>dewpoint</td>\n",
       "      <td>1.958766</td>\n",
       "    </tr>\n",
       "    <tr>\n",
       "      <th>3</th>\n",
       "      <td>tavg</td>\n",
       "      <td>1.849957</td>\n",
       "    </tr>\n",
       "    <tr>\n",
       "      <th>12</th>\n",
       "      <td>weathertype_fg</td>\n",
       "      <td>1.443824</td>\n",
       "    </tr>\n",
       "    <tr>\n",
       "      <th>6</th>\n",
       "      <td>cool</td>\n",
       "      <td>0.274012</td>\n",
       "    </tr>\n",
       "    <tr>\n",
       "      <th>19</th>\n",
       "      <td>resultspeed_roll7_lag28</td>\n",
       "      <td>0.240777</td>\n",
       "    </tr>\n",
       "    <tr>\n",
       "      <th>13</th>\n",
       "      <td>weathertype_ts</td>\n",
       "      <td>0.125751</td>\n",
       "    </tr>\n",
       "    <tr>\n",
       "      <th>16</th>\n",
       "      <td>preciptotal_roll1_lag10</td>\n",
       "      <td>0.038444</td>\n",
       "    </tr>\n",
       "    <tr>\n",
       "      <th>11</th>\n",
       "      <td>weathertype_br</td>\n",
       "      <td>-0.113051</td>\n",
       "    </tr>\n",
       "    <tr>\n",
       "      <th>9</th>\n",
       "      <td>weathertype_ra</td>\n",
       "      <td>-0.371281</td>\n",
       "    </tr>\n",
       "    <tr>\n",
       "      <th>15</th>\n",
       "      <td>relative_humidity</td>\n",
       "      <td>-0.657410</td>\n",
       "    </tr>\n",
       "    <tr>\n",
       "      <th>8</th>\n",
       "      <td>weathertype_dz</td>\n",
       "      <td>-0.797413</td>\n",
       "    </tr>\n",
       "    <tr>\n",
       "      <th>10</th>\n",
       "      <td>weathertype_hz</td>\n",
       "      <td>-0.866485</td>\n",
       "    </tr>\n",
       "    <tr>\n",
       "      <th>7</th>\n",
       "      <td>weathertype_vc</td>\n",
       "      <td>-1.361058</td>\n",
       "    </tr>\n",
       "    <tr>\n",
       "      <th>0</th>\n",
       "      <td>culex_pipiens</td>\n",
       "      <td>-1.637003</td>\n",
       "    </tr>\n",
       "    <tr>\n",
       "      <th>1</th>\n",
       "      <td>culex_pipiens/restuans</td>\n",
       "      <td>-1.712533</td>\n",
       "    </tr>\n",
       "    <tr>\n",
       "      <th>18</th>\n",
       "      <td>sealevel_roll7_lag28</td>\n",
       "      <td>-1.758394</td>\n",
       "    </tr>\n",
       "    <tr>\n",
       "      <th>14</th>\n",
       "      <td>daylighthours</td>\n",
       "      <td>-2.359813</td>\n",
       "    </tr>\n",
       "    <tr>\n",
       "      <th>2</th>\n",
       "      <td>culex_restuans</td>\n",
       "      <td>-2.810066</td>\n",
       "    </tr>\n",
       "    <tr>\n",
       "      <th>4</th>\n",
       "      <td>depart</td>\n",
       "      <td>-3.224671</td>\n",
       "    </tr>\n",
       "  </tbody>\n",
       "</table>\n",
       "</div>"
      ],
      "text/plain": [
       "                    Feature  Coefficients\n",
       "17  stnpressure_roll7_lag28      2.138130\n",
       "5                  dewpoint      1.958766\n",
       "3                      tavg      1.849957\n",
       "12           weathertype_fg      1.443824\n",
       "6                      cool      0.274012\n",
       "19  resultspeed_roll7_lag28      0.240777\n",
       "13           weathertype_ts      0.125751\n",
       "16  preciptotal_roll1_lag10      0.038444\n",
       "11           weathertype_br     -0.113051\n",
       "9            weathertype_ra     -0.371281\n",
       "15        relative_humidity     -0.657410\n",
       "8            weathertype_dz     -0.797413\n",
       "10           weathertype_hz     -0.866485\n",
       "7            weathertype_vc     -1.361058\n",
       "0             culex_pipiens     -1.637003\n",
       "1    culex_pipiens/restuans     -1.712533\n",
       "18     sealevel_roll7_lag28     -1.758394\n",
       "14            daylighthours     -2.359813\n",
       "2            culex_restuans     -2.810066\n",
       "4                    depart     -3.224671"
      ]
     },
     "execution_count": 18,
     "metadata": {},
     "output_type": "execute_result"
    }
   ],
   "source": [
    "# Creating a table of top coefficients\n",
    "\n",
    "lrcoef = pd.DataFrame({\"Feature\":X_train.columns.tolist(),\n",
    "             \"Coefficients\":lr.coef_[0]})\n",
    "lrcoef.sort_values('Coefficients', ascending = False)"
   ]
  },
  {
   "cell_type": "code",
   "execution_count": 19,
   "id": "3eaeeed9",
   "metadata": {
    "id": "3eaeeed9",
    "outputId": "860fef0d-ec37-4e79-e7f2-6b0f4e8ebe49"
   },
   "outputs": [
    {
     "data": {
      "text/plain": [
       "array([3.37412924])"
      ]
     },
     "execution_count": 19,
     "metadata": {},
     "output_type": "execute_result"
    }
   ],
   "source": [
    "#Exponentiated Intercept\n",
    "np.exp(lr.intercept_)"
   ]
  },
  {
   "cell_type": "markdown",
   "id": "b2262e63",
   "metadata": {
    "id": "b2262e63"
   },
   "source": [
    "##### Notable features:\n",
    "\n",
    "stnpressure_roll7_lag28 has a high positive coefficient, this supports our hypothesis that rainy season in the past creates an environment for mosquito to breed causing a rise in WNV presence in the future.\n",
    "\n",
    "dewpoint & tavg has high positive coefficients, this is logical as mosquitoes are more active in humid and hot climates.\n",
    "\n",
    "daylighthours has a strong negative coefficient, this agrees with the hypothesis that coolex species of mosquitoes are more active at night, so a less day light hours means more active time for this species which is a known carrier of WNV."
   ]
  },
  {
   "cell_type": "markdown",
   "id": "c2c1039d",
   "metadata": {
    "id": "c2c1039d"
   },
   "source": [
    "<a id='rf'></a>\n",
    "### Model 2: Random Forest\n",
    "\n",
    "The Random Forest Classifier is an ensemble method that uses bootsrap aggregating to repeatedly sample the training set with replacement and constructs multiple decision trees as a result. Additionally, a random subset of features is selected for each split within the decision tree algorithm to reduce the correlation between decision trees. Correlation between trees occurs when there are few features that are strong predictors of the target class as these features will be used in many of the bagged decision trees.\n",
    "\n",
    "#### Hyperparameters:\n",
    "\n",
    "max_depth -> The maximum depth of the tree. If None, then nodes are expanded until all leaves are pure or until all leaves contain less than min_samples_split samples. The lower the depth the less variance the model will have, it will also increase the bias.\n",
    "\n",
    "n_estimators -> The number of trees in the forest. The less trees, the lower the variance of the model.\n",
    "\n",
    "max_features -> The number of features to consider when looking for the best split. \n",
    "\n",
    "criterion -> The criterion of split, either “gini” for the Gini impurity or “entropy” for the information gain. "
   ]
  },
  {
   "cell_type": "markdown",
   "id": "f7e3354d",
   "metadata": {
    "id": "f7e3354d"
   },
   "source": [
    "From grid searching, we get the following parameters:"
   ]
  },
  {
   "cell_type": "code",
   "execution_count": 20,
   "id": "f9d69ed7",
   "metadata": {
    "id": "f9d69ed7"
   },
   "outputs": [
    {
     "data": {
      "text/plain": [
       "{'bootstrap': True,\n",
       " 'ccp_alpha': 0.0,\n",
       " 'class_weight': None,\n",
       " 'criterion': 'entropy',\n",
       " 'max_depth': None,\n",
       " 'max_features': 'sqrt',\n",
       " 'max_leaf_nodes': None,\n",
       " 'max_samples': None,\n",
       " 'min_impurity_decrease': 0.0,\n",
       " 'min_impurity_split': None,\n",
       " 'min_samples_leaf': 1,\n",
       " 'min_samples_split': 2,\n",
       " 'min_weight_fraction_leaf': 0.0,\n",
       " 'n_estimators': 2500,\n",
       " 'n_jobs': None,\n",
       " 'oob_score': False,\n",
       " 'random_state': 25,\n",
       " 'verbose': 0,\n",
       " 'warm_start': False}"
      ]
     },
     "execution_count": 20,
     "metadata": {},
     "output_type": "execute_result"
    }
   ],
   "source": [
    "rf.get_params()"
   ]
  },
  {
   "cell_type": "markdown",
   "id": "d4eeb20a",
   "metadata": {
    "id": "d4eeb20a"
   },
   "source": [
    "#### Feature importance\n",
    "\n",
    "In the Random Forest Classifier algorithm, feature importance (or gini importance) is the feature's average impurity decrease calculated from all decision trees in the forest. When the decision tree is figuring out which split to make at a given node, it picks the split that maximizes the drop in gini impurity from the parent node to the child node. Therefore a higher feature importance shows how strong of a predictor that feature is of either class."
   ]
  },
  {
   "cell_type": "code",
   "execution_count": 21,
   "id": "338a2df8",
   "metadata": {
    "id": "338a2df8"
   },
   "outputs": [],
   "source": [
    "# Get features importance in dictionary\n",
    "important_features_dict = {}\n",
    "for idx, val in enumerate(rf.feature_importances_):\n",
    "    important_features_dict[idx] = val\n",
    "\n",
    "# Sort values of feature importance    \n",
    "\n",
    "important_features_list = sorted(important_features_dict,\n",
    "                                 key=important_features_dict.get,\n",
    "                                 reverse=True)\n",
    "\n",
    "# Create list of sorted values\n",
    "imp_features = []\n",
    "importance = []\n",
    "for i in important_features_list:\n",
    "    imp_features.append(X_train.columns[i])\n",
    "    importance.append(important_features_dict[i])"
   ]
  },
  {
   "cell_type": "code",
   "execution_count": 22,
   "id": "358fe6b6",
   "metadata": {
    "id": "358fe6b6",
    "outputId": "8ebe6538-40b2-448a-ee8b-b0a71c40170e"
   },
   "outputs": [
    {
     "data": {
      "image/png": "[encoded data removed]",
      "text/plain": [
       "<Figure size 1152x576 with 1 Axes>"
      ]
     },
     "metadata": {
      "needs_background": "light"
     },
     "output_type": "display_data"
    }
   ],
   "source": [
    "# Plot feature importance\n",
    "\n",
    "plt.figure(figsize = (16,8))\n",
    "forest_importances = pd.Series(importance, index= imp_features)\n",
    "forest_importances.plot.bar();"
   ]
  },
  {
   "cell_type": "markdown",
   "id": "igglennqTtzH",
   "metadata": {
    "id": "igglennqTtzH"
   },
   "source": [
    "The plot above shows the feature importance of the Random Forest model sorted in order of importance. \n",
    "\n",
    "Looking at the top 3 features:\n",
    "\n",
    "daylighthours - supports our hypothesis that the day light hours affects mosquito activity levels, which increases the spread of WNV\n",
    "\n",
    "culex_restuans - This is the species of mosquitos that have the highest rate of having WNV based on our data. They are known carriers of the virus.\n",
    "\n",
    "resultspeed_roll7_lag28 - supports our hypothesis that past rainy season may cause mosquito outbreaks which increases the spread of WNV"
   ]
  },
  {
   "cell_type": "markdown",
   "id": "ffc04e93",
   "metadata": {
    "id": "ffc04e93"
   },
   "source": [
    "<a id='ada'></a>\n",
    "### Model 3: Adaptive Boosting Classifier\n",
    "\n",
    "Adaptive Boosting is a boosting algorithm that combines multiple weak classifiers into a single strong classifier. It creates single split decision trees called decision stump; the decision of the trees will be weighted depending on its ability to classify the data. A benefit Adaptive Boost brings is that it allows us to capture some non-linear relationships. \n",
    "[Link](https://towardsdatascience.com/understanding-adaboost-2f94f22d5bfe)\n"
   ]
  },
  {
   "cell_type": "markdown",
   "id": "3ff1fa46",
   "metadata": {
    "id": "3ff1fa46"
   },
   "source": [
    "#### Hyperparameters:\n",
    "\n",
    "criterion -> The criterion of split\n",
    "\n",
    "max_depth -> The maximum depth of the tree.\n",
    "\n",
    "ccp_alpha -> Impurity threshold of each split.\n",
    "\n",
    "class_weight -> Balance weights will add weights to the observations. The weights will be inversely proportion to their frequencies. This method deals penalizes the majority class, which helps for imbalanced classes.\n"
   ]
  },
  {
   "cell_type": "markdown",
   "id": "47e2b9e8",
   "metadata": {
    "id": "47e2b9e8"
   },
   "source": [
    "From grid searching, we get the following parameters:"
   ]
  },
  {
   "cell_type": "code",
   "execution_count": 23,
   "id": "ca6ce6ac",
   "metadata": {
    "id": "ca6ce6ac"
   },
   "outputs": [
    {
     "data": {
      "text/plain": [
       "{'algorithm': 'SAMME.R',\n",
       " 'base_estimator__ccp_alpha': 0,\n",
       " 'base_estimator__class_weight': 'balanced',\n",
       " 'base_estimator__criterion': 'gini',\n",
       " 'base_estimator__max_depth': 15,\n",
       " 'base_estimator__max_features': None,\n",
       " 'base_estimator__max_leaf_nodes': None,\n",
       " 'base_estimator__min_impurity_decrease': 0.0,\n",
       " 'base_estimator__min_impurity_split': None,\n",
       " 'base_estimator__min_samples_leaf': 1,\n",
       " 'base_estimator__min_samples_split': 2,\n",
       " 'base_estimator__min_weight_fraction_leaf': 0.0,\n",
       " 'base_estimator__random_state': None,\n",
       " 'base_estimator__splitter': 'best',\n",
       " 'base_estimator': DecisionTreeClassifier(ccp_alpha=0, class_weight='balanced', max_depth=15),\n",
       " 'learning_rate': 1.0,\n",
       " 'n_estimators': 200,\n",
       " 'random_state': 25}"
      ]
     },
     "execution_count": 23,
     "metadata": {},
     "output_type": "execute_result"
    }
   ],
   "source": [
    "ada.get_params()"
   ]
  },
  {
   "cell_type": "markdown",
   "id": "39356230",
   "metadata": {
    "id": "39356230"
   },
   "source": [
    "<a id='gb'></a>\n",
    "### Model 4: Gradient Boosting Classifier\n",
    "\n",
    "Gradient boost is similar to Adaboost, but the weights of the decision of the trees are dependent on some loss function. \n",
    "[Link]( https://towardsdatascience.com/understanding-gradient-boosting-machines-9be756fe76ab)\n"
   ]
  },
  {
   "cell_type": "markdown",
   "id": "e0e7f03d",
   "metadata": {
    "id": "e0e7f03d"
   },
   "source": [
    "#### Hyperparameters:\n",
    "\n",
    "criterion -> The criterion of split\n",
    "\n",
    "max_depth -> The maximum depth of the tree.\n",
    "\n",
    "loss -> The loss function to be optimized\n"
   ]
  },
  {
   "cell_type": "markdown",
   "id": "daf85322",
   "metadata": {
    "id": "daf85322"
   },
   "source": [
    "From grid searching, we get the following parameters:"
   ]
  },
  {
   "cell_type": "code",
   "execution_count": 24,
   "id": "b1d55add",
   "metadata": {
    "id": "b1d55add"
   },
   "outputs": [
    {
     "data": {
      "text/plain": [
       "{'ccp_alpha': 0.0,\n",
       " 'criterion': 'friedman_mse',\n",
       " 'init': None,\n",
       " 'learning_rate': 0.1,\n",
       " 'loss': 'exponential',\n",
       " 'max_depth': 10,\n",
       " 'max_features': None,\n",
       " 'max_leaf_nodes': None,\n",
       " 'min_impurity_decrease': 0.0,\n",
       " 'min_impurity_split': None,\n",
       " 'min_samples_leaf': 1,\n",
       " 'min_samples_split': 2,\n",
       " 'min_weight_fraction_leaf': 0.0,\n",
       " 'n_estimators': 500,\n",
       " 'n_iter_no_change': None,\n",
       " 'random_state': 25,\n",
       " 'subsample': 1.0,\n",
       " 'tol': 0.0001,\n",
       " 'validation_fraction': 0.1,\n",
       " 'verbose': 0,\n",
       " 'warm_start': False}"
      ]
     },
     "execution_count": 24,
     "metadata": {},
     "output_type": "execute_result"
    }
   ],
   "source": [
    "gb.get_params()"
   ]
  },
  {
   "cell_type": "markdown",
   "id": "ab2ed202",
   "metadata": {
    "id": "ab2ed202"
   },
   "source": [
    "<a id='nn'></a>\n",
    "### Model 5: Neural Network - Multilayer Perceptron Classifier\n",
    "\n",
    "MLPClassifier trains iteratively since at each time step the partial derivatives of the loss function with respect to the model parameters are computed to update the parameters.\n",
    "\n",
    "It can also have a regularization term added to the loss function that shrinks model parameters to prevent overfitting.\n",
    "[link](https://scikit-learn.org/stable/modules/generated/sklearn.neural_network.MLPClassifier.html)"
   ]
  },
  {
   "cell_type": "markdown",
   "id": "eb380663",
   "metadata": {
    "id": "eb380663"
   },
   "source": [
    "#### Hyperparameters:\n",
    "\n",
    "learning_rate -> Learning rate schedule for weight updates.\n",
    "\n",
    "validation_fraction -> The proportion of training data to set aside as validation set for early stopping.\n",
    "\n",
    "hidden_layer_sizes -> The amount of nodes in the hidden layers\n"
   ]
  },
  {
   "cell_type": "markdown",
   "id": "7ecb45dd",
   "metadata": {
    "id": "7ecb45dd"
   },
   "source": [
    "From grid searching, we get the following parameters:"
   ]
  },
  {
   "cell_type": "code",
   "execution_count": 25,
   "id": "4a00257b",
   "metadata": {
    "id": "4a00257b"
   },
   "outputs": [
    {
     "data": {
      "text/plain": [
       "{'activation': 'relu',\n",
       " 'alpha': 0.0001,\n",
       " 'batch_size': 'auto',\n",
       " 'beta_1': 0.9,\n",
       " 'beta_2': 0.999,\n",
       " 'early_stopping': True,\n",
       " 'epsilon': 1e-08,\n",
       " 'hidden_layer_sizes': (100,),\n",
       " 'learning_rate': 'adaptive',\n",
       " 'learning_rate_init': 0.001,\n",
       " 'max_fun': 15000,\n",
       " 'max_iter': 2000,\n",
       " 'momentum': 0.9,\n",
       " 'n_iter_no_change': 10,\n",
       " 'nesterovs_momentum': True,\n",
       " 'power_t': 0.5,\n",
       " 'random_state': 25,\n",
       " 'shuffle': True,\n",
       " 'solver': 'adam',\n",
       " 'tol': 0.0001,\n",
       " 'validation_fraction': 0.15,\n",
       " 'verbose': 1,\n",
       " 'warm_start': False}"
      ]
     },
     "execution_count": 25,
     "metadata": {},
     "output_type": "execute_result"
    }
   ],
   "source": [
    "nn.get_params()"
   ]
  },
  {
   "cell_type": "markdown",
   "id": "26df119e",
   "metadata": {
    "id": "26df119e"
   },
   "source": [
    "<a id='selection'></a>\n",
    "## Model Selection\n",
    "\n",
    "In this section we will evaluate the results of the models and choose the ideal model.\n",
    "\n",
    "After selecting the ideal hyperparameters from gridsearching, we generate the evaluation metrics for the models:"
   ]
  },
  {
   "cell_type": "code",
   "execution_count": 26,
   "id": "e8c80e04",
   "metadata": {
    "id": "e8c80e04"
   },
   "outputs": [],
   "source": [
    "# Function to get evaluation metrics\n",
    "def metrics(model,X_train,y_train,X_test,y_test):\n",
    "    pred = model.predict(X_test)\n",
    "    cm = confusion_matrix(y_test, pred)\n",
    "    print('Train Data Evaluation Score')\n",
    "    print(f'AUCROC: {roc_auc_score(y_train,model.predict_proba(X_train)[:, 1])}')\n",
    "    print('--------------')\n",
    "    print('Test Data Evaluation Scores')\n",
    "    print(f'AUCROC: {roc_auc_score(y_test,model.predict_proba(X_test)[:, 1])}')\n",
    "    print(f'Sensitivity: {cm[1,1]/(cm[1,1]+cm[1,0])}')\n",
    "    print(f'Precision: {cm[1,1]/(cm[1,1]+cm[0,1])}')\n",
    "    print(f'F1_score: {f1_score(pred, y_test)}')\n",
    "    print('--------------')\n",
    "    print(f'Outcome values :\\n True Positive : {cm[1,1]} \\n False Negative: {cm[1,0]} \\n False Positive: {cm[0,1]} \\n True Negative : {cm[0,0]}')\n"
   ]
  },
  {
   "cell_type": "code",
   "execution_count": 27,
   "id": "777fb25f",
   "metadata": {
    "id": "777fb25f",
    "outputId": "6a887669-130d-4d5b-a10b-96c6215dc9cf"
   },
   "outputs": [
    {
     "name": "stdout",
     "output_type": "stream",
     "text": [
      "Logistic Regression \n",
      "\n",
      "Train Data Evaluation Score\n",
      "AUCROC: 0.8199724185842145\n",
      "--------------\n",
      "Test Data Evaluation Scores\n",
      "AUCROC: 0.7942192021707105\n",
      "Sensitivity: 0.7898550724637681\n",
      "Precision: 0.12124582869855395\n",
      "F1_score: 0.210221793635487\n",
      "--------------\n",
      "Outcome values :\n",
      " True Positive : 109 \n",
      " False Negative: 29 \n",
      " False Positive: 790 \n",
      " True Negative : 1699\n",
      "\n",
      "Random Forest\n",
      "\n",
      "Train Data Evaluation Score\n",
      "AUCROC: 0.9119886300886906\n",
      "--------------\n",
      "Test Data Evaluation Scores\n",
      "AUCROC: 0.8317670212704014\n",
      "Sensitivity: 0.7318840579710145\n",
      "Precision: 0.15279878971255673\n",
      "F1_score: 0.2528160200250313\n",
      "--------------\n",
      "Outcome values :\n",
      " True Positive : 101 \n",
      " False Negative: 37 \n",
      " False Positive: 560 \n",
      " True Negative : 1929\n",
      "\n",
      "ADA Boost \n",
      "\n",
      "Train Data Evaluation Score\n",
      "AUCROC: 0.9123487589672521\n",
      "--------------\n",
      "Test Data Evaluation Scores\n",
      "AUCROC: 0.8370686091265336\n",
      "Sensitivity: 0.7318840579710145\n",
      "Precision: 0.15279878971255673\n",
      "F1_score: 0.2528160200250313\n",
      "--------------\n",
      "Outcome values :\n",
      " True Positive : 101 \n",
      " False Negative: 37 \n",
      " False Positive: 560 \n",
      " True Negative : 1929\n",
      "\n",
      "Gradient Boost \n",
      "\n",
      "Train Data Evaluation Score\n",
      "AUCROC: 0.9123487589672521\n",
      "--------------\n",
      "Test Data Evaluation Scores\n",
      "AUCROC: 0.8358982421204022\n",
      "Sensitivity: 0.7318840579710145\n",
      "Precision: 0.15279878971255673\n",
      "F1_score: 0.2528160200250313\n",
      "--------------\n",
      "Outcome values :\n",
      " True Positive : 101 \n",
      " False Negative: 37 \n",
      " False Positive: 560 \n",
      " True Negative : 1929\n",
      "\n",
      " Neural Network \n",
      "\n",
      "Train Data Evaluation Score\n",
      "AUCROC: 0.8753540830764256\n",
      "--------------\n",
      "Test Data Evaluation Scores\n",
      "AUCROC: 0.8381137876220588\n",
      "Sensitivity: 0.8115942028985508\n",
      "Precision: 0.1322314049586777\n",
      "F1_score: 0.22741116751269036\n",
      "--------------\n",
      "Outcome values :\n",
      " True Positive : 112 \n",
      " False Negative: 26 \n",
      " False Positive: 735 \n",
      " True Negative : 1754\n"
     ]
    }
   ],
   "source": [
    "print('Logistic Regression \\n')\n",
    "metrics(lr,X_train_sm,y_train_sm,X_holdout,y_holdout)\n",
    "print('\\nRandom Forest\\n')\n",
    "metrics(rf,X_train_sm,y_train_sm,X_holdout,y_holdout)\n",
    "print('\\nADA Boost \\n')\n",
    "metrics(ada,X_train_sm,y_train_sm,X_holdout,y_holdout)\n",
    "print('\\nGradient Boost \\n')\n",
    "metrics(gb,X_train_sm,y_train_sm,X_holdout,y_holdout)\n",
    "print('\\n Neural Network \\n')\n",
    "metrics(nn,X_train_sm,y_train_sm,X_holdout,y_holdout)"
   ]
  },
  {
   "cell_type": "markdown",
   "id": "69b4e84f",
   "metadata": {
    "id": "69b4e84f"
   },
   "source": [
    "### Selected Model:\n",
    "\n",
    "To select the best model, we consider the following factors:\n",
    "\n",
    "##### 1) High Recall/Specificity:\n",
    "\n",
    "The ideal model will have a high recall. We are interested in the positive class (WNV present), recall captures the proportion of positive classes predicted correctly by the model.\n",
    "\n",
    "##### 2) Low ROCAUC difference between training and validation data: \n",
    "\n",
    "An ideal model will control for overfitting, if the ROC AUC score between the training and validation data is small, it implies that the model is not overfitted to the train data. ROC AUC score was used as the evaluation metrics of choice because we are training the data on data that is transformed by SMOTE. Accuracy, recall and other metrics that are prediction dependent may not be applicable as the validation data remains imbalanced.\n",
    "\n",
    "The following is a table of our models and the evaluation metrics generated:\n",
    "\n",
    "|  | Logistic Regression | Random Forest | ADA Boost | Gradient Boost | Neural Network |\n",
    "|---|---|---|---|---|---|\n",
    "| **Train ROC AUC** | 81.90% | 91.20% | 91.23% | 91.23% |87.54%|\n",
    "| **ROC AUC** | 80.86% | 85.12% | 79.55% | 80.80% |86.13%|\n",
    "| **Recall** | 79.71% | 87.68% | **97.10%** | 97.10% |88.41%|\n",
    "| **Precision** | 12.29% | 13.12% | 9.65% | 9.96% |13.77%|\n",
    "| **F1 score** | 21.30% | 22.83% | 17.55% | 18.06% |23.83%|\n",
    "\n",
    "Our best model is the ADA Boost model. It achieves a recall of 97.10%, successfully predicting most of the WNV cases. A drawback of the model is that the precision is 9.65%. This is expected as we are using mainly weather data to predict whether a trap has west nile virus. This is problematic as not all traps will have west nile virus on a given day, but the same weather data will be used to predict all the traps. Hence, with our approach, we expect to see a low precision score. Suggestions on how to improve the model precision are stated in the [Future Work](#future) section"
   ]
  },
  {
   "cell_type": "markdown",
   "id": "0ae67495",
   "metadata": {
    "id": "0ae67495"
   },
   "source": [
    "<a id='kaggle'></a>\n",
    "## Kaggle Evaluation\n",
    "\n",
    "In this section, we create submission files to upload on [Kaggle](https://www.kaggle.com/c/predict-west-nile-virus/overview). We re-train the models on the entire dataset to generate submission file of real-valued probability that WNV is present."
   ]
  },
  {
   "cell_type": "code",
   "execution_count": 28,
   "id": "7831cf2e",
   "metadata": {
    "id": "7831cf2e",
    "outputId": "2c93d23c-2219-449e-abf2-bf21b44d16d4",
    "scrolled": true
   },
   "outputs": [
    {
     "name": "stderr",
     "output_type": "stream",
     "text": [
      "C:\\Users\\chris\\anaconda3\\envs\\dsi\\lib\\site-packages\\pandas\\core\\indexing.py:1738: SettingWithCopyWarning: \n",
      "A value is trying to be set on a copy of a slice from a DataFrame.\n",
      "Try using .loc[row_indexer,col_indexer] = value instead\n",
      "\n",
      "See the caveats in the documentation: https://pandas.pydata.org/pandas-docs/stable/user_guide/indexing.html#returning-a-view-versus-a-copy\n",
      "  self._setitem_single_column(loc, value[:, i].tolist(), pi)\n",
      "C:\\Users\\chris\\anaconda3\\envs\\dsi\\lib\\site-packages\\pandas\\core\\indexing.py:1738: SettingWithCopyWarning: \n",
      "A value is trying to be set on a copy of a slice from a DataFrame.\n",
      "Try using .loc[row_indexer,col_indexer] = value instead\n",
      "\n",
      "See the caveats in the documentation: https://pandas.pydata.org/pandas-docs/stable/user_guide/indexing.html#returning-a-view-versus-a-copy\n",
      "  self._setitem_single_column(loc, value[:, i].tolist(), pi)\n",
      "C:\\Users\\chris\\anaconda3\\envs\\dsi\\lib\\site-packages\\pandas\\core\\indexing.py:1738: SettingWithCopyWarning: \n",
      "A value is trying to be set on a copy of a slice from a DataFrame.\n",
      "Try using .loc[row_indexer,col_indexer] = value instead\n",
      "\n",
      "See the caveats in the documentation: https://pandas.pydata.org/pandas-docs/stable/user_guide/indexing.html#returning-a-view-versus-a-copy\n",
      "  self._setitem_single_column(loc, value[:, i].tolist(), pi)\n",
      "C:\\Users\\chris\\anaconda3\\envs\\dsi\\lib\\site-packages\\pandas\\core\\indexing.py:1738: SettingWithCopyWarning: \n",
      "A value is trying to be set on a copy of a slice from a DataFrame.\n",
      "Try using .loc[row_indexer,col_indexer] = value instead\n",
      "\n",
      "See the caveats in the documentation: https://pandas.pydata.org/pandas-docs/stable/user_guide/indexing.html#returning-a-view-versus-a-copy\n",
      "  self._setitem_single_column(loc, value[:, i].tolist(), pi)\n",
      "C:\\Users\\chris\\anaconda3\\envs\\dsi\\lib\\site-packages\\pandas\\core\\indexing.py:1738: SettingWithCopyWarning: \n",
      "A value is trying to be set on a copy of a slice from a DataFrame.\n",
      "Try using .loc[row_indexer,col_indexer] = value instead\n",
      "\n",
      "See the caveats in the documentation: https://pandas.pydata.org/pandas-docs/stable/user_guide/indexing.html#returning-a-view-versus-a-copy\n",
      "  self._setitem_single_column(loc, value[:, i].tolist(), pi)\n",
      "C:\\Users\\chris\\anaconda3\\envs\\dsi\\lib\\site-packages\\pandas\\core\\indexing.py:1738: SettingWithCopyWarning: \n",
      "A value is trying to be set on a copy of a slice from a DataFrame.\n",
      "Try using .loc[row_indexer,col_indexer] = value instead\n",
      "\n",
      "See the caveats in the documentation: https://pandas.pydata.org/pandas-docs/stable/user_guide/indexing.html#returning-a-view-versus-a-copy\n",
      "  self._setitem_single_column(loc, value[:, i].tolist(), pi)\n",
      "C:\\Users\\chris\\anaconda3\\envs\\dsi\\lib\\site-packages\\pandas\\core\\indexing.py:1738: SettingWithCopyWarning: \n",
      "A value is trying to be set on a copy of a slice from a DataFrame.\n",
      "Try using .loc[row_indexer,col_indexer] = value instead\n",
      "\n",
      "See the caveats in the documentation: https://pandas.pydata.org/pandas-docs/stable/user_guide/indexing.html#returning-a-view-versus-a-copy\n",
      "  self._setitem_single_column(loc, value[:, i].tolist(), pi)\n",
      "C:\\Users\\chris\\anaconda3\\envs\\dsi\\lib\\site-packages\\pandas\\core\\indexing.py:1738: SettingWithCopyWarning: \n",
      "A value is trying to be set on a copy of a slice from a DataFrame.\n",
      "Try using .loc[row_indexer,col_indexer] = value instead\n",
      "\n",
      "See the caveats in the documentation: https://pandas.pydata.org/pandas-docs/stable/user_guide/indexing.html#returning-a-view-versus-a-copy\n",
      "  self._setitem_single_column(loc, value[:, i].tolist(), pi)\n",
      "C:\\Users\\chris\\anaconda3\\envs\\dsi\\lib\\site-packages\\pandas\\core\\indexing.py:1738: SettingWithCopyWarning: \n",
      "A value is trying to be set on a copy of a slice from a DataFrame.\n",
      "Try using .loc[row_indexer,col_indexer] = value instead\n",
      "\n",
      "See the caveats in the documentation: https://pandas.pydata.org/pandas-docs/stable/user_guide/indexing.html#returning-a-view-versus-a-copy\n",
      "  self._setitem_single_column(loc, value[:, i].tolist(), pi)\n",
      "C:\\Users\\chris\\anaconda3\\envs\\dsi\\lib\\site-packages\\pandas\\core\\indexing.py:1738: SettingWithCopyWarning: \n",
      "A value is trying to be set on a copy of a slice from a DataFrame.\n",
      "Try using .loc[row_indexer,col_indexer] = value instead\n",
      "\n",
      "See the caveats in the documentation: https://pandas.pydata.org/pandas-docs/stable/user_guide/indexing.html#returning-a-view-versus-a-copy\n",
      "  self._setitem_single_column(loc, value[:, i].tolist(), pi)\n"
     ]
    }
   ],
   "source": [
    "# Standard Scaler\n",
    "fix_cols = [x for x in X.columns if x.startswith('culex') or x.startswith('weathertype') or x.startswith('wnvpresent')]\n",
    "cols = [x for x in X.columns if x not in fix_cols]\n",
    "\n",
    "ss = StandardScaler()\n",
    "X_sc = X\n",
    "for i in cols:\n",
    "    X_sc.loc[:,i] = ss.fit_transform(X[[i]])\n",
    "    X_test.loc[:,i] = ss.transform(X_test[[i]])"
   ]
  },
  {
   "cell_type": "code",
   "execution_count": 29,
   "id": "d83defcb",
   "metadata": {
    "id": "d83defcb"
   },
   "outputs": [],
   "source": [
    "# SMOTE\n",
    "sm = SMOTE(random_state = 25)\n",
    "\n",
    "X_sm, y_sm = sm.fit_resample(X, y)"
   ]
  },
  {
   "cell_type": "code",
   "execution_count": 30,
   "id": "22983d91",
   "metadata": {
    "id": "22983d91",
    "outputId": "c085ce25-5bcd-4e9c-967a-f0e31b91f4fc",
    "scrolled": true
   },
   "outputs": [
    {
     "name": "stdout",
     "output_type": "stream",
     "text": [
      "Iteration 1, loss = 0.61801138\n",
      "Validation score: 0.726481\n",
      "Iteration 2, loss = 0.54097648\n",
      "Validation score: 0.765651\n",
      "Iteration 3, loss = 0.50931410\n",
      "Validation score: 0.778038\n",
      "Iteration 4, loss = 0.49022102\n",
      "Validation score: 0.774690\n",
      "Iteration 5, loss = 0.47676643\n",
      "Validation score: 0.783395\n",
      "Iteration 6, loss = 0.46692781\n",
      "Validation score: 0.788416\n",
      "Iteration 7, loss = 0.46024542\n",
      "Validation score: 0.790090\n",
      "Iteration 8, loss = 0.45393043\n",
      "Validation score: 0.796117\n",
      "Iteration 9, loss = 0.44911583\n",
      "Validation score: 0.793773\n",
      "Iteration 10, loss = 0.44520466\n",
      "Validation score: 0.791430\n",
      "Iteration 11, loss = 0.44188939\n",
      "Validation score: 0.801808\n",
      "Iteration 12, loss = 0.43988144\n",
      "Validation score: 0.794777\n",
      "Iteration 13, loss = 0.43718172\n",
      "Validation score: 0.802143\n",
      "Iteration 14, loss = 0.43485799\n",
      "Validation score: 0.802812\n",
      "Iteration 15, loss = 0.43298526\n",
      "Validation score: 0.805490\n",
      "Iteration 16, loss = 0.43108279\n",
      "Validation score: 0.807834\n",
      "Iteration 17, loss = 0.42943538\n",
      "Validation score: 0.806830\n",
      "Iteration 18, loss = 0.42850052\n",
      "Validation score: 0.805156\n",
      "Iteration 19, loss = 0.42668873\n",
      "Validation score: 0.812856\n",
      "Iteration 20, loss = 0.42526557\n",
      "Validation score: 0.806830\n",
      "Iteration 21, loss = 0.42468376\n",
      "Validation score: 0.810847\n",
      "Iteration 22, loss = 0.42380758\n",
      "Validation score: 0.804821\n",
      "Iteration 23, loss = 0.42237480\n",
      "Validation score: 0.813525\n",
      "Iteration 24, loss = 0.42209202\n",
      "Validation score: 0.809173\n",
      "Iteration 25, loss = 0.42017209\n",
      "Validation score: 0.816204\n",
      "Iteration 26, loss = 0.42010453\n",
      "Validation score: 0.809173\n",
      "Iteration 27, loss = 0.41898738\n",
      "Validation score: 0.810512\n",
      "Iteration 28, loss = 0.41831511\n",
      "Validation score: 0.810512\n",
      "Iteration 29, loss = 0.41728904\n",
      "Validation score: 0.813190\n",
      "Iteration 30, loss = 0.41808078\n",
      "Validation score: 0.816204\n",
      "Iteration 31, loss = 0.41731582\n",
      "Validation score: 0.811517\n",
      "Iteration 32, loss = 0.41674189\n",
      "Validation score: 0.813525\n",
      "Iteration 33, loss = 0.41553389\n",
      "Validation score: 0.813860\n",
      "Iteration 34, loss = 0.41536580\n",
      "Validation score: 0.815534\n",
      "Iteration 35, loss = 0.41297708\n",
      "Validation score: 0.813860\n",
      "Iteration 36, loss = 0.41370928\n",
      "Validation score: 0.814195\n",
      "Validation score did not improve more than tol=0.000100 for 10 consecutive epochs. Stopping.\n"
     ]
    },
    {
     "data": {
      "text/plain": [
       "MLPClassifier(early_stopping=True, learning_rate='adaptive', max_iter=2000,\n",
       "              random_state=25, validation_fraction=0.15, verbose=1)"
      ]
     },
     "execution_count": 30,
     "metadata": {},
     "output_type": "execute_result"
    }
   ],
   "source": [
    "#Selected model\n",
    "model1 = lr\n",
    "model2 = rf\n",
    "model3 = ada\n",
    "model4 = gb\n",
    "model5 = nn\n",
    "#Retrain model on full training set\n",
    "model1.fit(X_sm,y_sm)\n",
    "model2.fit(X_sm,y_sm)\n",
    "model3.fit(X_sm,y_sm)\n",
    "model4.fit(X_sm,y_sm)\n",
    "model5.fit(X_sm,y_sm)"
   ]
  },
  {
   "cell_type": "code",
   "execution_count": 31,
   "id": "ab219da4",
   "metadata": {
    "id": "ab219da4",
    "scrolled": true
   },
   "outputs": [],
   "source": [
    "# Create submission file\n",
    "models = [model1, model2, model3, model4, model5]\n",
    "count = 0\n",
    "for model in models:\n",
    "    submission = pd.DataFrame()\n",
    "    submission['Id'] = test_df['id']\n",
    "    submission['WnvPresent'] = model.predict_proba(X_test)[:,1]\n",
    "    count+=1\n",
    "    submission.to_csv(f'../../datasets/submission{str(count)}.csv', index = False)"
   ]
  },
  {
   "cell_type": "markdown",
   "id": "f3fdd632",
   "metadata": {
    "id": "f3fdd632"
   },
   "source": [
    "### Kaggle score:\n",
    "\n",
    "Kaggle returns the AUCROC score of the test dataset:\n",
    "\n",
    "Logistic Regression: 0.67515\n",
    "\n",
    "Random Forest: 0.6628\n",
    "\n",
    "Ada Boost: 0.66842\n",
    "\n",
    "Gradient Boost: 0.65783\n",
    "\n",
    "Neural Network: 0.62480\n",
    "\n",
    "We observe a slight decrease in the ROCAUC scores in our models. This hints that our models are showing signs of overfitting on 2007, 2009, 2011, 2013 data (train dataset)."
   ]
  },
  {
   "cell_type": "markdown",
   "id": "79a81e63",
   "metadata": {
    "id": "79a81e63"
   },
   "source": [
    "<a id='conclude'></a>\n",
    "## Conclusions and Recommendations"
   ]
  },
  {
   "cell_type": "markdown",
   "id": "3f051678",
   "metadata": {
    "id": "3f051678"
   },
   "source": [
    "In conclusion, the selected model performs sufficiently well as a screening tool, with a recall of 97.10% and validation AUC-ROC score of 66.84% (kaggle). However there is definitely room for improvement and fine-tuning. \n",
    "\n",
    "The strongest features from the modeling process revealed that the occurence of WNV is correlated to weather data which predict rainfall, which creates ideal conditions for mosquitos to  breed and amplify the spread of the WNV. Since the eggs take time to hatch, weather features which describe past weather data became powerful predictors. This leads us to recommend a two-step approach to mosquito control.\n",
    "\n",
    "Spraying strategy involves 2 types of pesticides:\n",
    "- Type 1: Targets the **larvae and pupae** and is applied directly onto containers/areas that may potentially accumulate stagnent water. This should be applied ahead of potential spikes in mosquito numbers.\n",
    "- Type 2: Targets the **adult mosquito**, and is applied via aerosol spray at local clusters.\n",
    "[Source: Central Mass Mosquito Control Project](https://www.cmmcp.org/pesticide-information/pages/products-we-use)\n",
    "\n",
    "Spraying should be conducted during the summer months (between June - September), when weather conditions begin to favour mosquito breeding.\n",
    "\n",
    "Spraying should cover a radius of at least 3 km as the main species Culex Pipiens has been studied to have a mean flight distance of 1.5km and maximum flight distance of 3km.\n",
    "[Source: Dispersal of Adult Culex Mosquitoes in an Urban West Nile Virus Hotspot](https://journals.plos.org/plosntds/article?id=10.1371/journal.pntd.0002768)"
   ]
  },
  {
   "cell_type": "markdown",
   "id": "2f2f6b6a",
   "metadata": {
    "id": "2f2f6b6a"
   },
   "source": [
    "<a id='future'></a>\n",
    "### Future Work\n",
    "The following suggestions may further improve on the model's precision but require additional data to proceed.\n",
    "\n",
    "#### Include more localized environmental data besides weather\n",
    "A major limitation of our model is that our inputs are based on average city-wide weather conditions. This does not allow us to predict localized mosquito clusters, making it difficult to narrow down our predictions to specific areas of interest. To overcome this limitation, we can include additional data which describe localized environmental features that could depict the extent of urbanization, or footfall/population density of the particular area etc.\n",
    "\n",
    "#### Include more spray data\n",
    "More spray data can be included to better evaluate the effectiveness of the current spraying strategy, and conduct a cost/benefit analysis for spraying to gain further insights on how to improve on the current programme.\n",
    "\n",
    "#### Ensemble methods\n",
    "We can combine the predictions from different models to incorporate the strengths of multiple models into our final model. For instance, AdaBoost gave the best sensitivity while Logistic Regression performed best in terms of minimal overfitting. By combining the predictions from these two models, we can create an encemble method which combines the benefits of using each."
   ]
  },
  {
   "cell_type": "code",
   "execution_count": 32,
   "id": "e5826f97",
   "metadata": {
    "id": "e5826f97"
   },
   "outputs": [],
   "source": [
    "#Ensemble method using 40% log-reg and 60% ada boost\n",
    "ensemble_predictions =  0.4*(model1.predict_proba(X_test)[:,1]) + 0.6*(model3.predict_proba(X_test)[:,1])"
   ]
  },
  {
   "cell_type": "code",
   "execution_count": 33,
   "id": "1b7d6306",
   "metadata": {
    "id": "1b7d6306",
    "scrolled": true
   },
   "outputs": [],
   "source": [
    "# Create submission file\n",
    "submission_ensemble = pd.DataFrame()\n",
    "submission_ensemble['Id'] = test_df['id']\n",
    "submission_ensemble['WnvPresent'] = ensemble_predictions"
   ]
  },
  {
   "cell_type": "code",
   "execution_count": 34,
   "id": "098b58ab",
   "metadata": {
    "id": "098b58ab"
   },
   "outputs": [],
   "source": [
    "submission_ensemble.to_csv('../../datasets/submission_ensemble.csv', index = False)"
   ]
  },
  {
   "cell_type": "markdown",
   "id": "e333d08d",
   "metadata": {
    "id": "e333d08d"
   },
   "source": [
    "The ensemble model scored an ROCAUC score of 0.70643 on the unseen Kaggle data. There is room for improvement for our models if more combination of ensemble methods are used."
   ]
  }
 ],
 "metadata": {
  "colab": {
   "collapsed_sections": [
    "ac6ec98e",
    "7dfe88b6",
    "718507d4",
    "debb2ddb",
    "ffc04e93",
    "39356230",
    "ab2ed202",
    "2f2f6b6a",
    "e333d08d"
   ],
   "name": "Project 4 - Modelling Final.ipynb",
   "provenance": []
  },
  "kernelspec": {
   "display_name": "Python 3",
   "language": "python",
   "name": "python3"
  },
  "language_info": {
   "codemirror_mode": {
    "name": "ipython",
    "version": 3
   },
   "file_extension": ".py",
   "mimetype": "text/x-python",
   "name": "python",
   "nbconvert_exporter": "python",
   "pygments_lexer": "ipython3",
   "version": "3.8.8"
  }
 },
 "nbformat": 4,
 "nbformat_minor": 5
}
